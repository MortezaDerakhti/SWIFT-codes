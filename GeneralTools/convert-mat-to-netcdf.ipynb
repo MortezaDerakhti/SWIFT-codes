{
 "cells": [
  {
   "cell_type": "markdown",
   "metadata": {},
   "source": [
    "- A sample notebook to convert Jim Thomson's matlab structures into netcdf format\n",
    "- I tried to make it as general as possible, but can't guarantee it will work for all the different structure types!\n",
    "- It should be easy enough to convert this into a loop if you want to run it on lots of different files\n",
    "- Author: Lettie Roach, lroach@uw.edu - last updated Apr 2020"
   ]
  },
  {
   "cell_type": "code",
   "execution_count": 231,
   "metadata": {},
   "outputs": [],
   "source": [
    "import numpy as np\n",
    "import matplotlib as mpl\n",
    "import glob\n",
    "import os\n",
    "import matplotlib.pyplot as plt\n",
    "from scipy.io import savemat,loadmat,whosmat\n",
    "import pandas as pd\n",
    "import datetime, time\n",
    "import xarray as xr"
   ]
  },
  {
   "cell_type": "markdown",
   "metadata": {},
   "source": [
    "A function to convert matlab datenum to python datetime"
   ]
  },
  {
   "cell_type": "code",
   "execution_count": 232,
   "metadata": {},
   "outputs": [],
   "source": [
    "def matlab2datetime(matlab_datenum):\n",
    "    \n",
    "    if matlab_datenum!=matlab_datenum: #if there is NaN in the time dimension\n",
    "        mytime = 0 # this sets time to 1970, which we will then screen out below\n",
    "    else:\n",
    "        day = datetime.datetime.fromordinal(int(matlab_datenum))\n",
    "        dayfrac = datetime.timedelta(days=matlab_datenum%1) - datetime.timedelta(days=366)\n",
    "        mytime = day + dayfrac\n",
    "    return mytime"
   ]
  },
  {
   "cell_type": "markdown",
   "metadata": {},
   "source": [
    "Edit these"
   ]
  },
  {
   "cell_type": "code",
   "execution_count": 233,
   "metadata": {},
   "outputs": [],
   "source": [
    "datadir = '/Users/lettieroach/Google Drive/SODA_Signature500_Data/dataProducts/waves/'\n",
    "os.listdir(datadir)\n",
    "fname = 'SODA_C_sigWaves.mat'"
   ]
  },
  {
   "cell_type": "markdown",
   "metadata": {},
   "source": [
    "Read in SWIFT metadata"
   ]
  },
  {
   "cell_type": "code",
   "execution_count": 234,
   "metadata": {},
   "outputs": [],
   "source": [
    "df = pd.read_csv('SWIFT_README.csv')\n",
    "df = df.set_index('netcdf_var').transpose()\n",
    "attr_dict = df.to_dict()"
   ]
  },
  {
   "cell_type": "code",
   "execution_count": 235,
   "metadata": {},
   "outputs": [
    {
     "data": {
      "text/plain": [
       "['__header__', '__version__', '__globals__', 'sigWaves']"
      ]
     },
     "execution_count": 235,
     "metadata": {},
     "output_type": "execute_result"
    }
   ],
   "source": [
    "struct = loadmat(datadir+fname,squeeze_me=True)\n",
    "[f for f in struct]"
   ]
  },
  {
   "cell_type": "markdown",
   "metadata": {},
   "source": [
    "Read into a pandas dataframe with python datetime format times"
   ]
  },
  {
   "cell_type": "code",
   "execution_count": 236,
   "metadata": {},
   "outputs": [],
   "source": [
    "identifier = 'sigWaves' # check this makes sense with struct above, may need to edit\n",
    "my_dict = struct[identifier]"
   ]
  },
  {
   "cell_type": "code",
   "execution_count": 237,
   "metadata": {},
   "outputs": [
    {
     "data": {
      "text/plain": [
       "4056"
      ]
     },
     "execution_count": 237,
     "metadata": {},
     "output_type": "execute_result"
    }
   ],
   "source": [
    "my_dict['time'] = [matlab2datetime(tval) for tval in my_dict['time']]\n",
    "my_dict['time'] = np.array(my_dict['time'],dtype='datetime64[s]')\n",
    "\n",
    "df = pd.DataFrame(my_dict)\n",
    "df = df.set_index('time')\n",
    "len(df.index)"
   ]
  },
  {
   "cell_type": "markdown",
   "metadata": {},
   "source": [
    "Any NaNs in the time index were set to 1970-01-01, so here we screen them out"
   ]
  },
  {
   "cell_type": "code",
   "execution_count": 238,
   "metadata": {},
   "outputs": [
    {
     "name": "stdout",
     "output_type": "stream",
     "text": [
      "4036\n"
     ]
    }
   ],
   "source": [
    "df = df.loc[df.index > '2000-01-01']\n",
    "ntime = len(df.index)\n",
    "print(ntime)"
   ]
  },
  {
   "cell_type": "markdown",
   "metadata": {},
   "source": [
    "Read in 1D (dimension=time) directly "
   ]
  },
  {
   "cell_type": "code",
   "execution_count": 239,
   "metadata": {},
   "outputs": [
    {
     "data": {
      "text/html": [
       "<div>\n",
       "<style scoped>\n",
       "    .dataframe tbody tr th:only-of-type {\n",
       "        vertical-align: middle;\n",
       "    }\n",
       "\n",
       "    .dataframe tbody tr th {\n",
       "        vertical-align: top;\n",
       "    }\n",
       "\n",
       "    .dataframe thead th {\n",
       "        text-align: right;\n",
       "    }\n",
       "</style>\n",
       "<table border=\"1\" class=\"dataframe\">\n",
       "  <thead>\n",
       "    <tr style=\"text-align: right;\">\n",
       "      <th></th>\n",
       "      <th>lat</th>\n",
       "      <th>lon</th>\n",
       "      <th>sigwaveheight</th>\n",
       "      <th>peakwaveperiod</th>\n",
       "      <th>peakwavedirT</th>\n",
       "    </tr>\n",
       "    <tr>\n",
       "      <th>time</th>\n",
       "      <th></th>\n",
       "      <th></th>\n",
       "      <th></th>\n",
       "      <th></th>\n",
       "      <th></th>\n",
       "    </tr>\n",
       "  </thead>\n",
       "  <tbody>\n",
       "    <tr>\n",
       "      <th>2018-10-09 00:00:00</th>\n",
       "      <td>77.7368</td>\n",
       "      <td>-139.142</td>\n",
       "      <td>NaN</td>\n",
       "      <td>NaN</td>\n",
       "      <td>NaN</td>\n",
       "    </tr>\n",
       "    <tr>\n",
       "      <th>2018-10-09 02:00:00</th>\n",
       "      <td>77.7368</td>\n",
       "      <td>-139.142</td>\n",
       "      <td>NaN</td>\n",
       "      <td>NaN</td>\n",
       "      <td>NaN</td>\n",
       "    </tr>\n",
       "    <tr>\n",
       "      <th>2018-10-09 04:00:00</th>\n",
       "      <td>77.7368</td>\n",
       "      <td>-139.142</td>\n",
       "      <td>NaN</td>\n",
       "      <td>NaN</td>\n",
       "      <td>NaN</td>\n",
       "    </tr>\n",
       "    <tr>\n",
       "      <th>2018-10-09 06:00:00</th>\n",
       "      <td>77.7368</td>\n",
       "      <td>-139.142</td>\n",
       "      <td>NaN</td>\n",
       "      <td>NaN</td>\n",
       "      <td>NaN</td>\n",
       "    </tr>\n",
       "    <tr>\n",
       "      <th>2018-10-09 08:00:00</th>\n",
       "      <td>77.7368</td>\n",
       "      <td>-139.142</td>\n",
       "      <td>NaN</td>\n",
       "      <td>NaN</td>\n",
       "      <td>NaN</td>\n",
       "    </tr>\n",
       "    <tr>\n",
       "      <th>...</th>\n",
       "      <td>...</td>\n",
       "      <td>...</td>\n",
       "      <td>...</td>\n",
       "      <td>...</td>\n",
       "      <td>...</td>\n",
       "    </tr>\n",
       "    <tr>\n",
       "      <th>2019-09-11 14:00:00</th>\n",
       "      <td>77.7368</td>\n",
       "      <td>-139.142</td>\n",
       "      <td>NaN</td>\n",
       "      <td>NaN</td>\n",
       "      <td>NaN</td>\n",
       "    </tr>\n",
       "    <tr>\n",
       "      <th>2019-09-11 16:00:00</th>\n",
       "      <td>77.7368</td>\n",
       "      <td>-139.142</td>\n",
       "      <td>NaN</td>\n",
       "      <td>NaN</td>\n",
       "      <td>NaN</td>\n",
       "    </tr>\n",
       "    <tr>\n",
       "      <th>2019-09-11 18:00:00</th>\n",
       "      <td>77.7368</td>\n",
       "      <td>-139.142</td>\n",
       "      <td>NaN</td>\n",
       "      <td>NaN</td>\n",
       "      <td>NaN</td>\n",
       "    </tr>\n",
       "    <tr>\n",
       "      <th>2019-09-11 20:00:00</th>\n",
       "      <td>77.7368</td>\n",
       "      <td>-139.142</td>\n",
       "      <td>NaN</td>\n",
       "      <td>NaN</td>\n",
       "      <td>NaN</td>\n",
       "    </tr>\n",
       "    <tr>\n",
       "      <th>2019-09-11 22:00:00</th>\n",
       "      <td>77.7368</td>\n",
       "      <td>-139.142</td>\n",
       "      <td>0.128015</td>\n",
       "      <td>3.43624</td>\n",
       "      <td>NaN</td>\n",
       "    </tr>\n",
       "  </tbody>\n",
       "</table>\n",
       "<p>4036 rows × 5 columns</p>\n",
       "</div>"
      ],
      "text/plain": [
       "                         lat      lon sigwaveheight peakwaveperiod  \\\n",
       "time                                                                 \n",
       "2018-10-09 00:00:00  77.7368 -139.142           NaN            NaN   \n",
       "2018-10-09 02:00:00  77.7368 -139.142           NaN            NaN   \n",
       "2018-10-09 04:00:00  77.7368 -139.142           NaN            NaN   \n",
       "2018-10-09 06:00:00  77.7368 -139.142           NaN            NaN   \n",
       "2018-10-09 08:00:00  77.7368 -139.142           NaN            NaN   \n",
       "...                      ...      ...           ...            ...   \n",
       "2019-09-11 14:00:00  77.7368 -139.142           NaN            NaN   \n",
       "2019-09-11 16:00:00  77.7368 -139.142           NaN            NaN   \n",
       "2019-09-11 18:00:00  77.7368 -139.142           NaN            NaN   \n",
       "2019-09-11 20:00:00  77.7368 -139.142           NaN            NaN   \n",
       "2019-09-11 22:00:00  77.7368 -139.142      0.128015        3.43624   \n",
       "\n",
       "                    peakwavedirT  \n",
       "time                              \n",
       "2018-10-09 00:00:00          NaN  \n",
       "2018-10-09 02:00:00          NaN  \n",
       "2018-10-09 04:00:00          NaN  \n",
       "2018-10-09 06:00:00          NaN  \n",
       "2018-10-09 08:00:00          NaN  \n",
       "...                          ...  \n",
       "2019-09-11 14:00:00          NaN  \n",
       "2019-09-11 16:00:00          NaN  \n",
       "2019-09-11 18:00:00          NaN  \n",
       "2019-09-11 20:00:00          NaN  \n",
       "2019-09-11 22:00:00          NaN  \n",
       "\n",
       "[4036 rows x 5 columns]"
      ]
     },
     "execution_count": 239,
     "metadata": {},
     "output_type": "execute_result"
    }
   ],
   "source": [
    "headers = [i for i in df]\n",
    "headers_1d = [i for i in df if [type(j) for j in df[i]][-1] is not np.ndarray]\n",
    "df_1d = df[headers_1d]\n",
    "df_1d"
   ]
  },
  {
   "cell_type": "markdown",
   "metadata": {},
   "source": [
    "Possible dimensions the multidimensional data could have - if it is another dimension, you will need to edit"
   ]
  },
  {
   "cell_type": "code",
   "execution_count": 240,
   "metadata": {},
   "outputs": [],
   "source": [
    "test_dims = ['z','freq']"
   ]
  },
  {
   "cell_type": "markdown",
   "metadata": {},
   "source": [
    "For multidimensional data, loop around and save each variable in a list of Datasets"
   ]
  },
  {
   "cell_type": "code",
   "execution_count": 242,
   "metadata": {},
   "outputs": [
    {
     "name": "stdout",
     "output_type": "stream",
     "text": [
      "['wavespectra']\n",
      "['energy', 'freq', 'a1', 'b1', 'a2', 'b2', 'check']\n",
      "freq\n",
      "<xarray.Dataset>\n",
      "Dimensions:             (freq_wavespectra: 42, time: 4036)\n",
      "Coordinates:\n",
      "  * freq_wavespectra    (freq_wavespectra) float64 0.009766 0.02148 ... 0.4902\n",
      "  * time                (time) datetime64[ns] 2018-10-09 ... 2019-09-11T22:00:00\n",
      "Data variables:\n",
      "    wavespectra_energy  (time, freq_wavespectra) float64 nan nan ... 0.003802\n",
      "    wavespectra_a1      (time, freq_wavespectra) float64 nan nan nan ... nan nan\n",
      "    wavespectra_b1      (time, freq_wavespectra) float64 nan nan nan ... nan nan\n",
      "    wavespectra_a2      (time, freq_wavespectra) float64 nan nan nan ... nan nan\n",
      "    wavespectra_b2      (time, freq_wavespectra) float64 nan nan nan ... nan nan\n",
      "    wavespectra_check   (time, freq_wavespectra) float64 nan nan nan ... nan nan\n"
     ]
    }
   ],
   "source": [
    "headers_multd = [h for h in headers if h not in headers_1d]\n",
    "list_ds = []\n",
    "print(headers_multd) # e.g. 'wave_spectra' - so here there is only one set of multidimensional data\n",
    "\n",
    "for mult in headers_multd:\n",
    "    nvar = len(df[mult].values[0][()]) # number of variables below this heading e.g. 'energy','freq','a1','b1'\n",
    "    ndim = len(df[mult].values[0][()][0])\n",
    "    mystr = str(df[mult].values[0][()][()].dtype)\n",
    "    varheaders = [var[3:-1] for var in mystr.split(',')[::2]]\n",
    "    print(varheaders)\n",
    "    multidimdata = np.zeros([nvar,ntime,ndim])\n",
    "    for t in range(ntime):\n",
    "        for v in range(nvar):\n",
    "            multidimdata[v,t,:] = df[mult].values[t][()][v][:]\n",
    "    \n",
    "    # identify which of these variables is a dimension\n",
    "    my_dim = ''\n",
    "    for f in range(len(test_dims)):\n",
    "        if test_dims[f] in varheaders:\n",
    "            my_dim = test_dims[f]\n",
    "    print(my_dim)\n",
    "    \n",
    "    if my_dim !='': # we found the dimension for multidimensional data\n",
    "        ind_dim = varheaders.index(my_dim)\n",
    "        varheaders.remove(my_dim)\n",
    "        my_dim_vals = multidimdata[ind_dim,0,:]\n",
    "        multidimdata = np.delete(multidimdata,ind_dim,axis=0)\n",
    "        nvar = nvar - 1\n",
    "    \n",
    "    # make a Dataset for the first variable\n",
    "    ds = xr.Dataset(\n",
    "            data_vars ={mult+'_'+varheaders[0] : xr.DataArray(multidimdata[0,:,:],dims=['time',my_dim+'_'+mult])},\n",
    "            coords={'time' : df.index, my_dim+'_'+mult : my_dim_vals})\n",
    "    \n",
    "    # if there are more variables, add these to to the Dataset\n",
    "    if nvar > 1:\n",
    "        for v in range(1,nvar):\n",
    "            ds[mult+'_'+varheaders[v]] = xr.DataArray(multidimdata[v,:,:],dims=['time',my_dim+'_'+mult])\n",
    "    list_ds.append(ds)\n",
    "       \n",
    "    print(ds)\n",
    "\n"
   ]
  },
  {
   "cell_type": "markdown",
   "metadata": {},
   "source": [
    "Combine everything - 1D plus multidimensional data"
   ]
  },
  {
   "cell_type": "code",
   "execution_count": 243,
   "metadata": {},
   "outputs": [],
   "source": [
    "list_ds.append(df_1d.to_xarray())\n",
    "allds = xr.merge(list_ds)   "
   ]
  },
  {
   "cell_type": "markdown",
   "metadata": {},
   "source": [
    "Add metadata"
   ]
  },
  {
   "cell_type": "code",
   "execution_count": 244,
   "metadata": {},
   "outputs": [
    {
     "data": {
      "text/plain": [
       "<xarray.Dataset>\n",
       "Dimensions:             (freq_wavespectra: 42, time: 4036)\n",
       "Coordinates:\n",
       "  * freq_wavespectra    (freq_wavespectra) float64 0.009766 0.02148 ... 0.4902\n",
       "  * time                (time) datetime64[ns] 2018-10-09 ... 2019-09-11T22:00:00\n",
       "Data variables:\n",
       "    wavespectra_energy  (time, freq_wavespectra) float64 nan nan ... 0.003802\n",
       "    wavespectra_a1      (time, freq_wavespectra) float64 nan nan nan ... nan nan\n",
       "    wavespectra_b1      (time, freq_wavespectra) float64 nan nan nan ... nan nan\n",
       "    wavespectra_a2      (time, freq_wavespectra) float64 nan nan nan ... nan nan\n",
       "    wavespectra_b2      (time, freq_wavespectra) float64 nan nan nan ... nan nan\n",
       "    wavespectra_check   (time, freq_wavespectra) float64 nan nan nan ... nan nan\n",
       "    lat                 (time) object 77.74 77.74 77.74 ... 77.74 77.74 77.74\n",
       "    lon                 (time) object -139.1 -139.1 -139.1 ... -139.1 -139.1\n",
       "    sigwaveheight       (time) object nan nan nan nan nan ... nan nan nan 0.128\n",
       "    peakwaveperiod      (time) object nan nan nan nan nan ... nan nan nan 3.436\n",
       "    peakwavedirT        (time) object nan nan nan nan nan ... nan nan nan nan\n",
       "Attributes:\n",
       "    description:        sigWaves\n",
       "    data:               SODA cruise, Sam Brenner, APL\n",
       "    netcdf_created_by:  Lettie Roach, 2020, UW"
      ]
     },
     "execution_count": 244,
     "metadata": {},
     "output_type": "execute_result"
    }
   ],
   "source": [
    "# for the whole file\n",
    "allds.attrs= {'description' : identifier,\n",
    "              'data' : 'SODA cruise, Sam Brenner, APL',\n",
    "              'netcdf_created_by': 'Lettie Roach, 2020, UW'}\n",
    "\n",
    "# for variables - add description and units\n",
    "for var in attr_dict:\n",
    "        if var in allds:\n",
    "            allds[var].attrs['units'] = attr_dict[var]['units']\n",
    "            allds[var].attrs['description'] = attr_dict[var]['description']\n",
    "   \n",
    "allds    "
   ]
  },
  {
   "cell_type": "markdown",
   "metadata": {},
   "source": [
    "Output to netcdf"
   ]
  },
  {
   "cell_type": "code",
   "execution_count": 245,
   "metadata": {},
   "outputs": [],
   "source": [
    "allds.to_netcdf(fname+'_converted.nc')"
   ]
  },
  {
   "cell_type": "code",
   "execution_count": null,
   "metadata": {},
   "outputs": [],
   "source": []
  },
  {
   "cell_type": "code",
   "execution_count": null,
   "metadata": {},
   "outputs": [],
   "source": []
  }
 ],
 "metadata": {
  "kernelspec": {
   "display_name": "Python 3",
   "language": "python",
   "name": "python3"
  },
  "language_info": {
   "codemirror_mode": {
    "name": "ipython",
    "version": 3
   },
   "file_extension": ".py",
   "mimetype": "text/x-python",
   "name": "python",
   "nbconvert_exporter": "python",
   "pygments_lexer": "ipython3",
   "version": "3.7.4"
  }
 },
 "nbformat": 4,
 "nbformat_minor": 2
}
