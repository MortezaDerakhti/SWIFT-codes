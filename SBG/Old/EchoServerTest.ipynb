{
 "cells": [
  {
   "cell_type": "code",
   "execution_count": null,
   "metadata": {
    "collapsed": true
   },
   "outputs": [],
   "source": [
    "import socket\n",
    "import sys\n",
    "HOST = None\n",
    "PORT = 50007\n",
    "s = None\n",
    "for res in socket.getaddrinfo(HOST,PORT,socket.AF_UNSPEC,socket.SOCK_STREAM,0,socket.AI_PASSIVE):\n",
    "    af,socktype,proto,canonname,sa = res\n",
    "    try:\n",
    "        s = socket.socket(af,socktype,proto)\n",
    "    except OSError as msg:\n",
    "        s = None\n",
    "        continue\n",
    "    try:\n",
    "        s.bind(sa)\n",
    "        s.listen(1)\n",
    "    except OSError as msg:\n",
    "        s.close()\n",
    "        s = None\n",
    "        continue\n",
    "    break\n",
    "if s is None:\n",
    "    print('could not open socket')\n",
    "    sys.exit(1)\n",
    "conn,addr = s.accept()\n",
    "with conn:\n",
    "    print('Connected by', addr)\n",
    "    while True:\n",
    "        data = conn.recv(1024)\n",
    "        if not data: \n",
    "            break\n",
    "        conn.send(data)\n",
    "        "
   ]
  },
  {
   "cell_type": "code",
   "execution_count": null,
   "metadata": {
    "collapsed": false
   },
   "outputs": [],
   "source": [
    "import socket\n",
    "HOST = ''\n",
    "PORT = 50007\n",
    "with socket.socket(socket.AF_INET,socket.SOCK_STREAM) as s:\n",
    "    s.bind((HOST,PORT))\n",
    "    s.listen(1)\n",
    "    conn,addr = s.accept()\n",
    "    with conn:\n",
    "        print('Connected by',addr)\n",
    "        while True:\n",
    "            data = conn.recv\n",
    "            if not data: break\n",
    "            conn.sendall(data)"
   ]
  },
  {
   "cell_type": "code",
   "execution_count": null,
   "metadata": {
    "collapsed": true
   },
   "outputs": [],
   "source": [
    "import socket\n",
    "HOST = ''\n",
    "PORT = 50007"
   ]
  },
  {
   "cell_type": "code",
   "execution_count": null,
   "metadata": {
    "collapsed": true
   },
   "outputs": [],
   "source": [
    "backlog = 5\n",
    "size = 1024"
   ]
  },
  {
   "cell_type": "code",
   "execution_count": null,
   "metadata": {
    "collapsed": true
   },
   "outputs": [],
   "source": [
    "s = socket.socket(socket.AF_INET,socket.SOCK_STREAM)"
   ]
  },
  {
   "cell_type": "code",
   "execution_count": null,
   "metadata": {
    "collapsed": false
   },
   "outputs": [],
   "source": [
    "s"
   ]
  },
  {
   "cell_type": "code",
   "execution_count": null,
   "metadata": {
    "collapsed": true
   },
   "outputs": [],
   "source": [
    "s.bind((HOST,PORT))"
   ]
  },
  {
   "cell_type": "code",
   "execution_count": null,
   "metadata": {
    "collapsed": false
   },
   "outputs": [],
   "source": [
    "s"
   ]
  },
  {
   "cell_type": "code",
   "execution_count": null,
   "metadata": {
    "collapsed": true
   },
   "outputs": [],
   "source": [
    "s.listen(backlog)"
   ]
  },
  {
   "cell_type": "code",
   "execution_count": null,
   "metadata": {
    "collapsed": true
   },
   "outputs": [],
   "source": [
    "client,address = s.accept()"
   ]
  },
  {
   "cell_type": "code",
   "execution_count": null,
   "metadata": {
    "collapsed": true
   },
   "outputs": [],
   "source": [
    "client"
   ]
  },
  {
   "cell_type": "code",
   "execution_count": null,
   "metadata": {
    "collapsed": true
   },
   "outputs": [],
   "source": [
    "client.close()"
   ]
  },
  {
   "cell_type": "code",
   "execution_count": null,
   "metadata": {
    "collapsed": true
   },
   "outputs": [],
   "source": []
  }
 ],
 "metadata": {
  "anaconda-cloud": {},
  "kernelspec": {
   "display_name": "Python [conda root]",
   "language": "python",
   "name": "conda-root-py"
  },
  "language_info": {
   "codemirror_mode": {
    "name": "ipython",
    "version": 3
   },
   "file_extension": ".py",
   "mimetype": "text/x-python",
   "name": "python",
   "nbconvert_exporter": "python",
   "pygments_lexer": "ipython3",
   "version": "3.5.2"
  }
 },
 "nbformat": 4,
 "nbformat_minor": 1
}
